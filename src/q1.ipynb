{
 "cells": [
  {
   "cell_type": "code",
   "execution_count": 1,
   "id": "f52d1918-8ba7-47ab-82ca-5955c5dcc1f1",
   "metadata": {},
   "outputs": [],
   "source": [
    "def swap(x, y):\n",
    "    \"\"\"\n",
    "    Task 1\n",
    "    - Create a function that would swap the value of x and y using only x and y as variables.\n",
    "    - x and y must be numeric.\n",
    "    - Return -1 if x and y is not numeric, and\n",
    "    - print the swapped values if both x and y are numeric.\n",
    "    \"\"\"        \n",
    "    if str(x).isnumeric() and str(y).isnumeric():\n",
    "        z = x; x = y; y = z\n",
    "        v_return = f\"X:{x} Y:{y}\"\n",
    "    else:\n",
    "        v_return = -1\n",
    "    return v_return\n",
    "# Task 2\n",
    "# Invoke the function \"swap\" using the following scenarios:\n",
    "# - \"Apple\", 10\n",
    "# - 9, 17\n",
    "\n"
   ]
  },
  {
   "cell_type": "code",
   "execution_count": 3,
   "id": "480656bf-c20e-44bb-a0ac-48e3fb757254",
   "metadata": {},
   "outputs": [
    {
     "data": {
      "text/plain": [
       "'X:17 Y:9'"
      ]
     },
     "execution_count": 3,
     "metadata": {},
     "output_type": "execute_result"
    }
   ],
   "source": [
    "swap(9, 17)"
   ]
  },
  {
   "cell_type": "code",
   "execution_count": 5,
   "id": "40f00702-cc42-49cb-af4a-0f48b5f0a826",
   "metadata": {},
   "outputs": [
    {
     "data": {
      "text/plain": [
       "-1"
      ]
     },
     "execution_count": 5,
     "metadata": {},
     "output_type": "execute_result"
    }
   ],
   "source": [
    "swap(\"Apple\", 10)"
   ]
  },
  {
   "cell_type": "code",
   "execution_count": 7,
   "id": "1c974b8d-c836-4a9c-ad6e-a48218d8296f",
   "metadata": {},
   "outputs": [
    {
     "data": {
      "text/plain": [
       "-1"
      ]
     },
     "execution_count": 7,
     "metadata": {},
     "output_type": "execute_result"
    }
   ],
   "source": [
    "swap(10, \"Apple\")"
   ]
  },
  {
   "cell_type": "code",
   "execution_count": 9,
   "id": "57365539-1aa7-4c21-8787-229924e88eb2",
   "metadata": {},
   "outputs": [
    {
     "data": {
      "text/plain": [
       "-1"
      ]
     },
     "execution_count": 9,
     "metadata": {},
     "output_type": "execute_result"
    }
   ],
   "source": [
    "swap(\"Apple\", \"Oranges\")"
   ]
  },
  {
   "cell_type": "code",
   "execution_count": null,
   "id": "e55124e8-0a45-4a5f-b55a-f9b8d928b7e7",
   "metadata": {},
   "outputs": [],
   "source": []
  },
  {
   "cell_type": "code",
   "execution_count": null,
   "id": "3eaca03a-a857-48d2-8e55-1350a25cf672",
   "metadata": {},
   "outputs": [],
   "source": []
  }
 ],
 "metadata": {
  "kernelspec": {
   "display_name": "Python 3 (ipykernel)",
   "language": "python",
   "name": "python3"
  },
  "language_info": {
   "codemirror_mode": {
    "name": "ipython",
    "version": 3
   },
   "file_extension": ".py",
   "mimetype": "text/x-python",
   "name": "python",
   "nbconvert_exporter": "python",
   "pygments_lexer": "ipython3",
   "version": "3.12.4"
  }
 },
 "nbformat": 4,
 "nbformat_minor": 5
}
