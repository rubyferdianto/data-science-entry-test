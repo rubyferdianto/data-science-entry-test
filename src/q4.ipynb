{
 "cells": [
  {
   "cell_type": "code",
   "execution_count": 152,
   "id": "7018d9f0-792b-44b9-8dfd-ec1b98af3832",
   "metadata": {},
   "outputs": [],
   "source": [
    "def string_reverse(s):\n",
    "    \"\"\"\n",
    "    Task 1\n",
    "    - Create a function that reverses a given string (s).\n",
    "    - s must be a string.\n",
    "    - Return the reversed string.\n",
    "    \"\"\"    \n",
    "    return (s)[::-1]\n",
    "# Task 2\n",
    "# Invoke the function \"string_reverse\" using the following scenarios:\n",
    "# - \"Hello World\"\n",
    "# - \"Python\""
   ]
  },
  {
   "cell_type": "code",
   "execution_count": 154,
   "id": "781ca0da-513c-4cf2-8885-d9aa568c8ed1",
   "metadata": {},
   "outputs": [
    {
     "data": {
      "text/plain": [
       "'dlroW olleH'"
      ]
     },
     "execution_count": 154,
     "metadata": {},
     "output_type": "execute_result"
    }
   ],
   "source": [
    "string_reverse(\"Hello World\")"
   ]
  },
  {
   "cell_type": "code",
   "execution_count": 156,
   "id": "a8650f2a-9326-4f37-b383-93081d357d2f",
   "metadata": {},
   "outputs": [
    {
     "data": {
      "text/plain": [
       "'nohtyP'"
      ]
     },
     "execution_count": 156,
     "metadata": {},
     "output_type": "execute_result"
    }
   ],
   "source": [
    "string_reverse(\"Python\")"
   ]
  }
 ],
 "metadata": {
  "kernelspec": {
   "display_name": "Python 3 (ipykernel)",
   "language": "python",
   "name": "python3"
  },
  "language_info": {
   "codemirror_mode": {
    "name": "ipython",
    "version": 3
   },
   "file_extension": ".py",
   "mimetype": "text/x-python",
   "name": "python",
   "nbconvert_exporter": "python",
   "pygments_lexer": "ipython3",
   "version": "3.12.4"
  }
 },
 "nbformat": 4,
 "nbformat_minor": 5
}
