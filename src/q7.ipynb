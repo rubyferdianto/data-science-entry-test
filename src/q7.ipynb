{
 "cells": [
  {
   "cell_type": "code",
   "execution_count": 267,
   "id": "7018d9f0-792b-44b9-8dfd-ec1b98af3832",
   "metadata": {},
   "outputs": [
    {
     "name": "stdout",
     "output_type": "stream",
     "text": [
      "Year:2020 Make:Toyota Model:Corolla\n"
     ]
    }
   ],
   "source": [
    "class Car:\n",
    "    \"\"\"\n",
    "    Task 1\n",
    "    - Define a class named Car with attributes: make, model, year\n",
    "    - Initialize these attributes in the __init__ method\n",
    "    - Add a method named describe_car() that prints information about the car as \"Year Make Model\"\n",
    "    \"\"\"\n",
    "    def __init__(mycar, make, model, year):\n",
    "        mycar.make = make\n",
    "        mycar.model = model\n",
    "        mycar.year = year\n",
    "\n",
    "    def describe_car(self):\n",
    "        print(f\"Year:{self.year} Make:{self.make} Model:{self.model}\")    \n",
    "\n",
    "c1 = Car(\"Toyota\", \"Corolla\", 2020)\n",
    "c1.describe_car()\n",
    "\n",
    "# Task 2\n",
    "# Create an instance of the Car class with the following attributes and call describe_car method:\n",
    "# - Make: Toyota, Model: Corolla, Year: 2020"
   ]
  },
  {
   "cell_type": "code",
   "execution_count": null,
   "id": "3e5fd76e-6d71-4c70-9d21-1c6ee8bed1eb",
   "metadata": {},
   "outputs": [],
   "source": []
  }
 ],
 "metadata": {
  "kernelspec": {
   "display_name": "Python 3 (ipykernel)",
   "language": "python",
   "name": "python3"
  },
  "language_info": {
   "codemirror_mode": {
    "name": "ipython",
    "version": 3
   },
   "file_extension": ".py",
   "mimetype": "text/x-python",
   "name": "python",
   "nbconvert_exporter": "python",
   "pygments_lexer": "ipython3",
   "version": "3.12.4"
  }
 },
 "nbformat": 4,
 "nbformat_minor": 5
}
