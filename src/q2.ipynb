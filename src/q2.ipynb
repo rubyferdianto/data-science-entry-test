{
 "cells": [
  {
   "cell_type": "code",
   "execution_count": 76,
   "id": "d00aab64-7f65-4df1-8de6-50ca2dc9acc4",
   "metadata": {},
   "outputs": [],
   "source": [
    "def find_and_replace(lst, find_val, replace_val):\n",
    "    \"\"\"\n",
    "    Task 1\n",
    "    - Create a function that searches for all occurrences of a value (find_val) in a given list (lst) and replaces them with another value (replace_val).\n",
    "    - lst must be a list.\n",
    "    - Return the modified list.\n",
    "    \"\"\"\n",
    "    new_lst = lst[:]\n",
    "    y = 0\n",
    "    for x in lst:\n",
    "        print(x)\n",
    "        if str(x) == str(find_val):     \n",
    "            new_lst[y] = replace_val\n",
    "        y = y + 1\n",
    "    return new_lst\n",
    "    # Task 2\n",
    "# Invoke the function \"find_and_replace\" using the following scenarios:\n",
    "# - [1, 2, 3, 4, 2, 2], 2, 5\n",
    "# - [\"apple\", \"banana\", \"apple\"], \"apple\", \"orange\""
   ]
  },
  {
   "cell_type": "code",
   "execution_count": 80,
   "id": "87cc57c2-a782-47f6-92c1-39be9a48e97b",
   "metadata": {},
   "outputs": [
    {
     "name": "stdout",
     "output_type": "stream",
     "text": [
      "apple\n",
      "banana\n",
      "apple\n"
     ]
    },
    {
     "data": {
      "text/plain": [
       "['orange', 'banana', 'orange']"
      ]
     },
     "execution_count": 80,
     "metadata": {},
     "output_type": "execute_result"
    }
   ],
   "source": [
    "find_and_replace([\"apple\", \"banana\", \"apple\"], \"apple\", \"orange\")"
   ]
  },
  {
   "cell_type": "code",
   "execution_count": 78,
   "id": "b2b55754-72a2-437b-a712-f21a5bb79f97",
   "metadata": {},
   "outputs": [
    {
     "name": "stdout",
     "output_type": "stream",
     "text": [
      "1\n",
      "2\n",
      "3\n",
      "4\n",
      "2\n",
      "2\n"
     ]
    },
    {
     "data": {
      "text/plain": [
       "[1, 5, 3, 4, 5, 5]"
      ]
     },
     "execution_count": 78,
     "metadata": {},
     "output_type": "execute_result"
    }
   ],
   "source": [
    "find_and_replace([1, 2, 3, 4, 2, 2], 2, 5)"
   ]
  },
  {
   "cell_type": "code",
   "execution_count": null,
   "id": "3c698700-e054-4787-8eed-f004b099cae2",
   "metadata": {},
   "outputs": [],
   "source": []
  }
 ],
 "metadata": {
  "kernelspec": {
   "display_name": "Python 3 (ipykernel)",
   "language": "python",
   "name": "python3"
  },
  "language_info": {
   "codemirror_mode": {
    "name": "ipython",
    "version": 3
   },
   "file_extension": ".py",
   "mimetype": "text/x-python",
   "name": "python",
   "nbconvert_exporter": "python",
   "pygments_lexer": "ipython3",
   "version": "3.12.4"
  }
 },
 "nbformat": 4,
 "nbformat_minor": 5
}
