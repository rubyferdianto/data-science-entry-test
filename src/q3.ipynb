{
 "cells": [
  {
   "cell_type": "code",
   "execution_count": 101,
   "id": "7018d9f0-792b-44b9-8dfd-ec1b98af3832",
   "metadata": {},
   "outputs": [],
   "source": [
    "def update_dictionary(dct, key, value):\n",
    "    \"\"\"\n",
    "    Task 1\n",
    "    - Create a function that updates a dictionary (dct) with a new key-value pair.\n",
    "    - If the key already exists in dct, print the original value, then update its value.\n",
    "    - Return the updated dictionary.\n",
    "    \"\"\"\n",
    "    new_dct = dict(dct)\n",
    "    if len(dct) == 0:\n",
    "        new_dct.update({key: value})\n",
    "    else:\n",
    "        for x in dct:\n",
    "            if str(x) == str(key):\n",
    "                print(f\"Origin value:{dct[x]}\")\n",
    "                new_dct[key] = value\n",
    "                new_dct.update({key: value})        \n",
    "    return new_dct\n",
    "\n",
    "# Task 2\n",
    "# Invoke the function \"update_dictionary\" using the following scenarios:\n",
    "# - {}, \"name\", \"Alice\"\n",
    "# - {\"age\": 25}, \"age\", 26"
   ]
  },
  {
   "cell_type": "code",
   "execution_count": 103,
   "id": "781ca0da-513c-4cf2-8885-d9aa568c8ed1",
   "metadata": {},
   "outputs": [
    {
     "name": "stdout",
     "output_type": "stream",
     "text": [
      "Origin value:25\n"
     ]
    },
    {
     "data": {
      "text/plain": [
       "{'age': 26}"
      ]
     },
     "execution_count": 103,
     "metadata": {},
     "output_type": "execute_result"
    }
   ],
   "source": [
    "update_dictionary({\"age\": 25}, \"age\", 26)"
   ]
  },
  {
   "cell_type": "code",
   "execution_count": 105,
   "id": "a8650f2a-9326-4f37-b383-93081d357d2f",
   "metadata": {},
   "outputs": [
    {
     "data": {
      "text/plain": [
       "{'name': 'Alice'}"
      ]
     },
     "execution_count": 105,
     "metadata": {},
     "output_type": "execute_result"
    }
   ],
   "source": [
    "update_dictionary({}, \"name\", \"Alice\")"
   ]
  },
  {
   "cell_type": "code",
   "execution_count": null,
   "id": "2af7f683-2b6c-4b02-83d8-16ba6fc46fae",
   "metadata": {},
   "outputs": [],
   "source": []
  }
 ],
 "metadata": {
  "kernelspec": {
   "display_name": "Python 3 (ipykernel)",
   "language": "python",
   "name": "python3"
  },
  "language_info": {
   "codemirror_mode": {
    "name": "ipython",
    "version": 3
   },
   "file_extension": ".py",
   "mimetype": "text/x-python",
   "name": "python",
   "nbconvert_exporter": "python",
   "pygments_lexer": "ipython3",
   "version": "3.12.4"
  }
 },
 "nbformat": 4,
 "nbformat_minor": 5
}
