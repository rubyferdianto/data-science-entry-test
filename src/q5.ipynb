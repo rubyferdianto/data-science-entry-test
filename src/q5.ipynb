{
 "cells": [
  {
   "cell_type": "code",
   "execution_count": 162,
   "id": "7018d9f0-792b-44b9-8dfd-ec1b98af3832",
   "metadata": {},
   "outputs": [],
   "source": [
    "def check_divisibility(num, divisor):\n",
    "    \"\"\"\n",
    "    Task 1\n",
    "    - Create a function to check if the number (num) is divisible by another number (divisor).\n",
    "    - Both num and divisor must be numeric.\n",
    "    - Return True if num is divisible by divisor, False otherwise.\n",
    "    \"\"\"\n",
    "    v_boolean = False\n",
    "    if str(num).isnumeric() and str(divisor).isnumeric():\n",
    "        if num%divisor == 0:\n",
    "            v_boolean = True\n",
    "        else:\n",
    "            v_boolean = False        \n",
    "    else:\n",
    "        v_boolean = False    \n",
    "    return v_boolean\n",
    "\n",
    "# Task 2\n",
    "# Invoke the function \"check_divisibility\" using the following scenarios:\n",
    "# - 10, 2\n",
    "# - 7, 3"
   ]
  },
  {
   "cell_type": "code",
   "execution_count": 164,
   "id": "781ca0da-513c-4cf2-8885-d9aa568c8ed1",
   "metadata": {},
   "outputs": [
    {
     "data": {
      "text/plain": [
       "True"
      ]
     },
     "execution_count": 164,
     "metadata": {},
     "output_type": "execute_result"
    }
   ],
   "source": [
    "check_divisibility(10, 2)"
   ]
  },
  {
   "cell_type": "code",
   "execution_count": 166,
   "id": "a8650f2a-9326-4f37-b383-93081d357d2f",
   "metadata": {},
   "outputs": [
    {
     "data": {
      "text/plain": [
       "False"
      ]
     },
     "execution_count": 166,
     "metadata": {},
     "output_type": "execute_result"
    }
   ],
   "source": [
    "check_divisibility(7, 3)"
   ]
  },
  {
   "cell_type": "code",
   "execution_count": null,
   "id": "3e5fd76e-6d71-4c70-9d21-1c6ee8bed1eb",
   "metadata": {},
   "outputs": [],
   "source": []
  }
 ],
 "metadata": {
  "kernelspec": {
   "display_name": "Python 3 (ipykernel)",
   "language": "python",
   "name": "python3"
  },
  "language_info": {
   "codemirror_mode": {
    "name": "ipython",
    "version": 3
   },
   "file_extension": ".py",
   "mimetype": "text/x-python",
   "name": "python",
   "nbconvert_exporter": "python",
   "pygments_lexer": "ipython3",
   "version": "3.12.4"
  }
 },
 "nbformat": 4,
 "nbformat_minor": 5
}
