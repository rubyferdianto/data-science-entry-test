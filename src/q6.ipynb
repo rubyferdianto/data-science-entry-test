{
 "cells": [
  {
   "cell_type": "code",
   "execution_count": 227,
   "id": "7018d9f0-792b-44b9-8dfd-ec1b98af3832",
   "metadata": {},
   "outputs": [],
   "source": [
    "def find_first_negative(lst):\n",
    "    \"\"\"\n",
    "    Task 1\n",
    "    - Create a function that finds the first negative number in a list (lst).\n",
    "    - Return the first negative number if found, otherwise return \"No negatives\".\n",
    "    - Use a while loop to implement this.\n",
    "    \"\"\"\n",
    "    i = 0; no_negative = 0\n",
    "    while i < len(lst):\n",
    "        if (lst[i] < 0) :\n",
    "            no_negative = 1\n",
    "            v_output = lst[i]\n",
    "            break\n",
    "        i = i + 1\n",
    "    if no_negative == 0:\n",
    "        v_output = 'No negatives'\n",
    "    return v_output\n",
    "\n",
    "\n",
    "# Task 2\n",
    "# Invoke the function \"find_first_negative\" using the following scenario:\n",
    "# - [3, 5, -1, 7, -2, 8]\n",
    "# - [2, 10, 7, 0]"
   ]
  },
  {
   "cell_type": "code",
   "execution_count": 233,
   "id": "781ca0da-513c-4cf2-8885-d9aa568c8ed1",
   "metadata": {},
   "outputs": [
    {
     "data": {
      "text/plain": [
       "-1"
      ]
     },
     "execution_count": 233,
     "metadata": {},
     "output_type": "execute_result"
    }
   ],
   "source": [
    "find_first_negative([3, 5, -1, 7, -2, 8])"
   ]
  },
  {
   "cell_type": "code",
   "execution_count": 235,
   "id": "a8650f2a-9326-4f37-b383-93081d357d2f",
   "metadata": {},
   "outputs": [
    {
     "data": {
      "text/plain": [
       "'No negatives'"
      ]
     },
     "execution_count": 235,
     "metadata": {},
     "output_type": "execute_result"
    }
   ],
   "source": [
    "find_first_negative([2, 10, 7, 0])"
   ]
  },
  {
   "cell_type": "code",
   "execution_count": null,
   "id": "3e5fd76e-6d71-4c70-9d21-1c6ee8bed1eb",
   "metadata": {},
   "outputs": [],
   "source": []
  }
 ],
 "metadata": {
  "kernelspec": {
   "display_name": "Python 3 (ipykernel)",
   "language": "python",
   "name": "python3"
  },
  "language_info": {
   "codemirror_mode": {
    "name": "ipython",
    "version": 3
   },
   "file_extension": ".py",
   "mimetype": "text/x-python",
   "name": "python",
   "nbconvert_exporter": "python",
   "pygments_lexer": "ipython3",
   "version": "3.12.4"
  }
 },
 "nbformat": 4,
 "nbformat_minor": 5
}
